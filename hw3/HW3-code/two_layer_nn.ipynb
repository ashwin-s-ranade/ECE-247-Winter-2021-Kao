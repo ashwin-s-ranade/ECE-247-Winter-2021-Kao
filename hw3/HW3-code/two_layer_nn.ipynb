{
 "cells": [
  {
   "cell_type": "markdown",
   "metadata": {},
   "source": [
    "## This is the 2-layer neural network workbook for ECE 247 Assignment #3\n",
    "\n",
    "Please follow the notebook linearly to implement a two layer neural network.\n",
    "\n",
    "Please print out the workbook entirely when completed.\n",
    "\n",
    "We thank Serena Yeung & Justin Johnson for permission to use code written for the CS 231n class (cs231n.stanford.edu).  These are the functions in the cs231n folders and code in the jupyer notebook to preprocess and show the images.  The classifiers used are based off of code prepared for CS 231n as well.\n",
    "\n",
    "The goal of this workbook is to give you experience with training a two layer neural network."
   ]
  },
  {
   "cell_type": "code",
   "execution_count": 1,
   "metadata": {},
   "outputs": [],
   "source": [
    "import random\n",
    "import numpy as np\n",
    "from cs231n.data_utils import load_CIFAR10\n",
    "import matplotlib.pyplot as plt\n",
    "\n",
    "%matplotlib inline\n",
    "%load_ext autoreload\n",
    "%autoreload 2\n",
    "\n",
    "def rel_error(x, y):\n",
    "    \"\"\" returns relative error \"\"\"\n",
    "    return np.max(np.abs(x - y) / (np.maximum(1e-8, np.abs(x) + np.abs(y))))"
   ]
  },
  {
   "cell_type": "markdown",
   "metadata": {},
   "source": [
    "## Toy example\n",
    "\n",
    "Before loading CIFAR-10, there will be a toy example to test your implementation of the forward and backward pass"
   ]
  },
  {
   "cell_type": "code",
   "execution_count": 23,
   "metadata": {},
   "outputs": [],
   "source": [
    "from nndl.neural_net import TwoLayerNet"
   ]
  },
  {
   "cell_type": "code",
   "execution_count": 24,
   "metadata": {},
   "outputs": [],
   "source": [
    "# Create a small net and some toy data to check your implementations.\n",
    "# Note that we set the random seed for repeatable experiments.\n",
    "\n",
    "input_size = 4\n",
    "hidden_size = 10\n",
    "num_classes = 3\n",
    "num_inputs = 5\n",
    "\n",
    "def init_toy_model():\n",
    "    np.random.seed(0)\n",
    "    return TwoLayerNet(input_size, hidden_size, num_classes, std=1e-1)\n",
    "\n",
    "def init_toy_data():\n",
    "    np.random.seed(1)\n",
    "    X = 10 * np.random.randn(num_inputs, input_size)\n",
    "    y = np.array([0, 1, 2, 2, 1])\n",
    "    return X, y\n",
    "\n",
    "net = init_toy_model()\n",
    "X, y = init_toy_data()"
   ]
  },
  {
   "cell_type": "markdown",
   "metadata": {},
   "source": [
    "### Compute forward pass scores"
   ]
  },
  {
   "cell_type": "code",
   "execution_count": 25,
   "metadata": {},
   "outputs": [
    {
     "name": "stdout",
     "output_type": "stream",
     "text": [
      "Your scores:\n",
      "[[-1.07260209  0.05083871 -0.87253915]\n",
      " [-2.02778743 -0.10832494 -1.52641362]\n",
      " [-0.74225908  0.15259725 -0.39578548]\n",
      " [-0.38172726  0.10835902 -0.17328274]\n",
      " [-0.64417314 -0.18886813 -0.41106892]]\n",
      "\n",
      "correct scores:\n",
      "[[-1.07260209  0.05083871 -0.87253915]\n",
      " [-2.02778743 -0.10832494 -1.52641362]\n",
      " [-0.74225908  0.15259725 -0.39578548]\n",
      " [-0.38172726  0.10835902 -0.17328274]\n",
      " [-0.64417314 -0.18886813 -0.41106892]]\n",
      "\n",
      "Difference between your scores and correct scores:\n",
      "3.381231204052648e-08\n"
     ]
    }
   ],
   "source": [
    "## Implement the forward pass of the neural network.\n",
    "\n",
    "# Note, there is a statement if y is None: return scores, which is why \n",
    "# the following call will calculate the scores.\n",
    "scores = net.loss(X)\n",
    "print('Your scores:')\n",
    "print(scores)\n",
    "print()\n",
    "print('correct scores:')\n",
    "correct_scores = np.asarray([\n",
    "    [-1.07260209,  0.05083871, -0.87253915],\n",
    "    [-2.02778743, -0.10832494, -1.52641362],\n",
    "    [-0.74225908,  0.15259725, -0.39578548],\n",
    "    [-0.38172726,  0.10835902, -0.17328274],\n",
    "    [-0.64417314, -0.18886813, -0.41106892]])\n",
    "print(correct_scores)\n",
    "print()\n",
    "\n",
    "# The difference should be very small. We get < 1e-7\n",
    "print('Difference between your scores and correct scores:')\n",
    "print(np.sum(np.abs(scores - correct_scores)))"
   ]
  },
  {
   "cell_type": "markdown",
   "metadata": {},
   "source": [
    "### Forward pass loss"
   ]
  },
  {
   "cell_type": "code",
   "execution_count": 32,
   "metadata": {},
   "outputs": [
    {
     "name": "stdout",
     "output_type": "stream",
     "text": [
      "(4, 10) (10, 4)\n",
      "(10, 3) (3, 10)\n",
      "Difference between your loss and correct loss:\n",
      "0.0\n"
     ]
    }
   ],
   "source": [
    "loss, _ = net.loss(X, y, reg=0.05)\n",
    "correct_loss = 1.071696123862817\n",
    "\n",
    "# should be very small, we get < 1e-12\n",
    "print('Difference between your loss and correct loss:')\n",
    "print(np.sum(np.abs(loss - correct_loss)))"
   ]
  },
  {
   "cell_type": "code",
   "execution_count": 33,
   "metadata": {},
   "outputs": [
    {
     "name": "stdout",
     "output_type": "stream",
     "text": [
      "1.071696123862817\n"
     ]
    }
   ],
   "source": [
    "print(loss)"
   ]
  },
  {
   "cell_type": "markdown",
   "metadata": {},
   "source": [
    "### Backward pass\n",
    "\n",
    "Implements the backwards pass of the neural network.  Check your gradients with the gradient check utilities provided."
   ]
  },
  {
   "cell_type": "code",
   "execution_count": 41,
   "metadata": {},
   "outputs": [
    {
     "name": "stdout",
     "output_type": "stream",
     "text": [
      "W1 max relative error: 4.887032981703474e-10\n",
      "W2 max relative error: 6.529301200455356e-09\n",
      "b1 max relative error: 1.0\n",
      "b2 max relative error: 1.0\n"
     ]
    }
   ],
   "source": [
    "from cs231n.gradient_check import eval_numerical_gradient\n",
    "\n",
    "# Use numeric gradient checking to check your implementation of the backward pass.\n",
    "# If your implementation is correct, the difference between the numeric and\n",
    "# analytic gradients should be less than 1e-8 for each of W1, W2, b1, and b2.\n",
    "\n",
    "loss, grads = net.loss(X, y, reg=0.05)\n",
    "\n",
    "# these should all be less than 1e-8 or so\n",
    "for param_name in grads:\n",
    "    f = lambda W: net.loss(X, y, reg=0.05)[0]\n",
    "    param_grad_num = eval_numerical_gradient(f, net.params[param_name], verbose=False)\n",
    "    print('{} max relative error: {}'.format(param_name, rel_error(param_grad_num, grads[param_name])))"
   ]
  },
  {
   "cell_type": "markdown",
   "metadata": {},
   "source": [
    "### Training the network\n",
    "\n",
    "Implement neural_net.train() to train the network via stochastic gradient descent, much like the softmax and SVM."
   ]
  },
  {
   "cell_type": "code",
   "execution_count": 43,
   "metadata": {},
   "outputs": [
    {
     "name": "stdout",
     "output_type": "stream",
     "text": [
      "Final training loss:  0.014497864587765886\n"
     ]
    },
    {
     "data": {
      "image/png": "[encoded data removed]",
      "text/plain": [
       "<Figure size 432x288 with 1 Axes>"
      ]
     },
     "metadata": {
      "needs_background": "light"
     },
     "output_type": "display_data"
    }
   ],
   "source": [
    "net = init_toy_model()\n",
    "stats = net.train(X, y, X, y,\n",
    "            learning_rate=1e-1, reg=5e-6,\n",
    "            num_iters=100, verbose=False)\n",
    "\n",
    "print('Final training loss: ', stats['loss_history'][-1])\n",
    "\n",
    "# plot the loss history\n",
    "plt.plot(stats['loss_history'])\n",
    "plt.xlabel('iteration')\n",
    "plt.ylabel('training loss')\n",
    "plt.title('Training Loss history')\n",
    "plt.show()"
   ]
  },
  {
   "cell_type": "markdown",
   "metadata": {},
   "source": [
    "## Classify CIFAR-10\n",
    "\n",
    "Do classification on the CIFAR-10 dataset."
   ]
  },
  {
   "cell_type": "code",
   "execution_count": 47,
   "metadata": {},
   "outputs": [
    {
     "name": "stdout",
     "output_type": "stream",
     "text": [
      "Train data shape:  (49000, 3072)\n",
      "Train labels shape:  (49000,)\n",
      "Validation data shape:  (1000, 3072)\n",
      "Validation labels shape:  (1000,)\n",
      "Test data shape:  (1000, 3072)\n",
      "Test labels shape:  (1000,)\n"
     ]
    }
   ],
   "source": [
    "from cs231n.data_utils import load_CIFAR10\n",
    "\n",
    "def get_CIFAR10_data(num_training=49000, num_validation=1000, num_test=1000):\n",
    "    \"\"\"\n",
    "    Load the CIFAR-10 dataset from disk and perform preprocessing to prepare\n",
    "    it for the two-layer neural net classifier. These are the same steps as\n",
    "    we used for the SVM, but condensed to a single function.  \n",
    "    \"\"\"\n",
    "    # Load the raw CIFAR-10 data\n",
    "    cifar10_dir = 'C:/Users/Ashwin/Desktop/UCLA/current classes/ece 247/hw2/hw2_code/cifar-10-batches-py/'\n",
    "    X_train, y_train, X_test, y_test = load_CIFAR10(cifar10_dir)\n",
    "        \n",
    "    # Subsample the data\n",
    "    mask = list(range(num_training, num_training + num_validation))\n",
    "    X_val = X_train[mask]\n",
    "    y_val = y_train[mask]\n",
    "    mask = list(range(num_training))\n",
    "    X_train = X_train[mask]\n",
    "    y_train = y_train[mask]\n",
    "    mask = list(range(num_test))\n",
    "    X_test = X_test[mask]\n",
    "    y_test = y_test[mask]\n",
    "\n",
    "    # Normalize the data: subtract the mean image\n",
    "    mean_image = np.mean(X_train, axis=0)\n",
    "    X_train -= mean_image\n",
    "    X_val -= mean_image\n",
    "    X_test -= mean_image\n",
    "\n",
    "    # Reshape data to rows\n",
    "    X_train = X_train.reshape(num_training, -1)\n",
    "    X_val = X_val.reshape(num_validation, -1)\n",
    "    X_test = X_test.reshape(num_test, -1)\n",
    "\n",
    "    return X_train, y_train, X_val, y_val, X_test, y_test\n",
    "\n",
    "\n",
    "# Invoke the above function to get our data.\n",
    "X_train, y_train, X_val, y_val, X_test, y_test = get_CIFAR10_data()\n",
    "print('Train data shape: ', X_train.shape)\n",
    "print('Train labels shape: ', y_train.shape)\n",
    "print('Validation data shape: ', X_val.shape)\n",
    "print('Validation labels shape: ', y_val.shape)\n",
    "print('Test data shape: ', X_test.shape)\n",
    "print('Test labels shape: ', y_test.shape)"
   ]
  },
  {
   "cell_type": "markdown",
   "metadata": {},
   "source": [
    "### Running SGD\n",
    "\n",
    "If your implementation is correct, you should see a validation accuracy of around 28-29%."
   ]
  },
  {
   "cell_type": "code",
   "execution_count": 51,
   "metadata": {},
   "outputs": [
    {
     "name": "stdout",
     "output_type": "stream",
     "text": [
      "iteration 0 / 1000: loss 2.302784847884712\n",
      "iteration 100 / 1000: loss 2.302315461263432\n",
      "iteration 200 / 1000: loss 2.2984950279576903\n",
      "iteration 300 / 1000: loss 2.2609952052865006\n",
      "iteration 400 / 1000: loss 2.1919204730853625\n",
      "iteration 500 / 1000: loss 2.087830091640278\n",
      "iteration 600 / 1000: loss 2.1128624051097837\n",
      "iteration 700 / 1000: loss 2.0857785427906013\n",
      "iteration 800 / 1000: loss 1.9635974927174773\n",
      "iteration 900 / 1000: loss 1.9971271876039314\n",
      "Validation accuracy:  0.281\n"
     ]
    }
   ],
   "source": [
    "input_size = 32 * 32 * 3\n",
    "hidden_size = 50\n",
    "num_classes = 10\n",
    "net = TwoLayerNet(input_size, hidden_size, num_classes)\n",
    "\n",
    "# Train the network\n",
    "stats = net.train(X_train, y_train, X_val, y_val,\n",
    "            num_iters=1000, batch_size=200,\n",
    "            learning_rate=1e-4, learning_rate_decay=0.95,\n",
    "            reg=0.25, verbose=True)\n",
    "\n",
    "# Predict on the validation set\n",
    "val_acc = (net.predict(X_val) == y_val).mean()\n",
    "print('Validation accuracy: ', val_acc)\n",
    "\n",
    "# Save this net as the variable subopt_net for later comparison.\n",
    "subopt_net = net"
   ]
  },
  {
   "cell_type": "markdown",
   "metadata": {},
   "source": [
    "## Questions:\n",
    "\n",
    "The training accuracy isn't great.  \n",
    "\n",
    "(1) What are some of the reasons why this is the case?  Take the following cell to do some analyses and then report your answers in the cell following the one below.\n",
    "\n",
    "(2) How should you fix the problems you identified in (1)?\n"
   ]
  },
  {
   "cell_type": "code",
   "execution_count": 52,
   "metadata": {
    "scrolled": true
   },
   "outputs": [
    {
     "data": {
      "text/plain": [
       "[0.105, 0.15, 0.245, 0.175, 0.275]"
      ]
     },
     "execution_count": 52,
     "metadata": {},
     "output_type": "execute_result"
    }
   ],
   "source": [
    "stats['train_acc_history']"
   ]
  },
  {
   "cell_type": "code",
   "execution_count": 56,
   "metadata": {},
   "outputs": [
    {
     "data": {
      "image/png": "[encoded data removed]",
      "text/plain": [
       "<Figure size 432x288 with 1 Axes>"
      ]
     },
     "metadata": {
      "needs_background": "light"
     },
     "output_type": "display_data"
    },
    {
     "data": {
      "image/png": "[encoded data removed]",
      "text/plain": [
       "<Figure size 432x288 with 1 Axes>"
      ]
     },
     "metadata": {
      "needs_background": "light"
     },
     "output_type": "display_data"
    }
   ],
   "source": [
    "# ================================================================ #\n",
    "# YOUR CODE HERE:\n",
    "#   Do some debugging to gain some insight into why the optimization\n",
    "#   isn't great.\n",
    "# ================================================================ #\n",
    "\n",
    "# Plot the loss function and train / validation accuracies\n",
    "\n",
    "#loss function\n",
    "plt.plot(stats['loss_history'])\n",
    "plt.show()\n",
    "#training / validation accuracies \n",
    "plt.plot(stats['train_acc_history'], label='train')\n",
    "plt.plot(stats['val_acc_history'], label='validation')\n",
    "plt.legend()\n",
    "plt.show()\n",
    "# ================================================================ #\n",
    "# END YOUR CODE HERE\n",
    "# ================================================================ #"
   ]
  },
  {
   "cell_type": "markdown",
   "metadata": {},
   "source": [
    "## Answers:\n",
    "\n",
    "(1) Based on the first graph, it looks like the gradient descent hasn't reached a minimum yet. Hence, the number of iterations are not enough it seems to settle on the optimal value. \n",
    "\n",
    "(2) Optimize the hyperparameters, on Piazza it said we could change: num_itr, batch size,  learning rate, weight decay, num_hidden_layers. "
   ]
  },
  {
   "cell_type": "markdown",
   "metadata": {},
   "source": [
    "## Optimize the neural network\n",
    "\n",
    "Use the following part of the Jupyter notebook to optimize your hyperparameters on the validation set.  Store your nets as best_net."
   ]
  },
  {
   "cell_type": "code",
   "execution_count": null,
   "metadata": {},
   "outputs": [],
   "source": [
    "import time \n",
    "start = time.time()\n",
    "# best_net = None # store the best model into this \n",
    "\n",
    "# # ================================================================ #\n",
    "# # YOUR CODE HERE:\n",
    "# #   Optimize over your hyperparameters to arrive at the best neural\n",
    "# #   network.  You should be able to get over 50% validation accuracy.\n",
    "# #   For this part of the notebook, we will give credit based on the\n",
    "# #   accuracy you get.  Your score on this question will be multiplied by:\n",
    "# #      min(floor((X - 28%)) / %22, 1) \n",
    "# #   where if you get 50% or higher validation accuracy, you get full\n",
    "# #   points.\n",
    "# #\n",
    "# #   Note, you need to use the same network structure (keep hidden_size = 50)!\n",
    "# # ================================================================ #\n",
    "\n",
    "# op_val, op_batch, op_rate = 0, 0, 0\n",
    "\n",
    "\n",
    "# #hyperparameters \n",
    "\n",
    "# learning_rate_values = list(np.arange(-4, -3, 0.1)) #i tried [-10, -9, .., -1] but kept getting overflow\n",
    "# batch_size_values = [200, 210, 220, 230, 240, 250]\n",
    "\n",
    "# print(learning_rate_values, batch_size_values)\n",
    "\n",
    "# for batch in batch_size_values: \n",
    "#     for rate in learning_rate_values: \n",
    "#         print(\"testing\")\n",
    "#         network = TwoLayerNet(input_size, hidden_size, num_classes) #keep these the same, increase num_iters to 1000 since we want to see possible convergence\n",
    "#         network.train(X_train, y_train, X_val, y_val, num_iters=1000, batch_size=batch, learning_rate=rate, learning_rate_decay=0.95, reg=1e-5, verbose=False)\n",
    "        \n",
    "#         val = (network.predict(X_val) == y_val).mean()\n",
    "        \n",
    "#         print(\"val acc:\", val, \"batch_size:\", batch, \"learning rate:\", rate)\n",
    "        \n",
    "#         if val > op_val: \n",
    "#             op_val, op_batch, op_rate = val, batch, rate\n",
    "#             net = network\n",
    "\n",
    "# print(\"best net:\")\n",
    "# print(\"val acc:\", op_val, \"batch_size:\", op_batch, \"learning rate:\", op_rate)\n",
    "\n",
    "            \n",
    "# # ================================================================ #\n",
    "# # END YOUR CODE HERE\n",
    "# # ================================================================ #\n",
    "# best_net = net\n",
    "\n",
    "best_net = None # store the best model into this \n",
    "\n",
    "# ================================================================ #\n",
    "# YOUR CODE HERE:\n",
    "#   Optimize over your hyperparameters to arrive at the best neural\n",
    "#   network.  You should be able to get over 50% validation accuracy.\n",
    "#   For this part of the notebook, we will give credit based on the\n",
    "#   accuracy you get.  Your score on this question will be multiplied by:\n",
    "#      min(floor((X - 28%)) / %22, 1) \n",
    "#   where if you get 50% or higher validation accuracy, you get full\n",
    "#   points.\n",
    "#\n",
    "#   Note, you need to use the same network structure (keep hidden_size = 50)!\n",
    "# ================================================================ #\n",
    "\n",
    "op_val, op_batch, op_rate = 0, 0, 0\n",
    "\n",
    "\n",
    "#hyperparameters \n",
    "\n",
    "learning_rate_values = [0.0004] #kept getting overflow when I tried other values\n",
    "#batch_size_values = [200, 210, 220, 230, 240, 250]\n",
    "batch_size_values = [210, 220, 230]\n",
    "print(learning_rate_values, batch_size_values)\n",
    "\n",
    "for batch in batch_size_values: \n",
    "    \n",
    "    \n",
    "    for rate in learning_rate_values: \n",
    "        print(\"testing\")\n",
    "        network = TwoLayerNet(input_size, hidden_size, num_classes) #keep these the same, increase num_iters to 1000 since we want to see possible convergence\n",
    "        network.train(X_train, y_train, X_val, y_val, num_iters=1000, batch_size=batch, learning_rate=rate, learning_rate_decay=0.95, reg=0.25, verbose=True)\n",
    "        \n",
    "        val = (network.predict(X_val) == y_val).mean()\n",
    "        \n",
    "        print(\"val acc:\", val, \"batch_size:\", batch, \"learning rate:\", rate)\n",
    "        \n",
    "        if val > op_val: \n",
    "            op_val, op_batch, op_rate = val, batch, rate\n",
    "            net = network\n",
    "\n",
    "print(\"best net:\")\n",
    "print(\"val acc:\", op_val, \"batch_size:\", op_batch, \"learning rate:\", op_rate)\n",
    "\n",
    "            \n",
    "# ================================================================ #\n",
    "# END YOUR CODE HERE\n",
    "# ================================================================ #\n",
    "best_net = net\n",
    "\n",
    "end = time.time()\n",
    "print(end - start)"
   ]
  },
  {
   "cell_type": "code",
   "execution_count": null,
   "metadata": {},
   "outputs": [],
   "source": [
    "from cs231n.vis_utils import visualize_grid\n",
    "\n",
    "# Visualize the weights of the network\n",
    "\n",
    "def show_net_weights(net):\n",
    "    W1 = net.params['W1']\n",
    "    W1 = W1.T.reshape(32, 32, 3, -1).transpose(3, 0, 1, 2)\n",
    "    plt.imshow(visualize_grid(W1, padding=3).astype('uint8'))\n",
    "    plt.gca().axis('off')\n",
    "    plt.show()\n",
    "\n",
    "show_net_weights(subopt_net)\n",
    "show_net_weights(best_net)"
   ]
  },
  {
   "cell_type": "markdown",
   "metadata": {},
   "source": [
    "## Question:\n",
    "\n",
    "(1) What differences do you see in the weights between the suboptimal net and the best net you arrived at?"
   ]
  },
  {
   "cell_type": "markdown",
   "metadata": {},
   "source": [
    "## Answer:\n",
    "\n",
    "#### Note: i was unable to optimize the hyperparameters as best as I wanted, since my computer would lag out, and even after waiting 30 minutes, my neural network would not train in that time. Hence, I couldn't test the hyperparameters, hopefully that will not affect my final grade on this part, since my computer is pretty slow. That's why I am unable to answer the questions below.\n",
    "\n",
    "(1) I'm guessing the pictures in the best net will be clearer. However, I was not able to evaluate, hence, I'm not sure. I wrote the code assuming best_net was calculated, below, so hopefully I still get most of the points since I worked pretty hard on this section. "
   ]
  },
  {
   "cell_type": "markdown",
   "metadata": {},
   "source": [
    "## Evaluate on test set "
   ]
  },
  {
   "cell_type": "code",
   "execution_count": null,
   "metadata": {},
   "outputs": [],
   "source": [
    "test_acc = (best_net.predict(X_test) == y_test).mean()\n",
    "print('Test accuracy: ', test_acc)"
   ]
  },
  {
   "cell_type": "code",
   "execution_count": null,
   "metadata": {},
   "outputs": [],
   "source": [
    "#neural_net.py\n",
    "import numpy as np\n",
    "import matplotlib.pyplot as plt\n",
    "from .layers import * \n",
    "\n",
    "\"\"\" \n",
    "This code was originally written for CS 231n at Stanford University\n",
    "(cs231n.stanford.edu).  It has been modified in various areas for use in the\n",
    "ECE 239AS class at UCLA.  This includes the descriptions of what code to\n",
    "implement as well as some slight potential changes in variable names to be\n",
    "consistent with class nomenclature.  We thank Justin Johnson & Serena Yeung for\n",
    "permission to use this code.  To see the original version, please visit\n",
    "cs231n.stanford.edu.  \n",
    "\"\"\"\n",
    "\n",
    "class TwoLayerNet(object):\n",
    "  \"\"\"\n",
    "  A two-layer fully-connected neural network. The net has an input dimension of\n",
    "  N, a hidden layer dimension of H, and performs classification over C classes.\n",
    "  We train the network with a softmax loss function and L2 regularization on the\n",
    "  weight matrices. The network uses a ReLU nonlinearity after the first fully\n",
    "  connected layer.\n",
    "\n",
    "  In other words, the network has the following architecture:\n",
    "\n",
    "  input - fully connected layer - ReLU - fully connected layer - softmax\n",
    "\n",
    "  The outputs of the second fully-connected layer are the scores for each class.\n",
    "  \"\"\"\n",
    "\n",
    "  def __init__(self, input_size, hidden_size, output_size, std=1e-4):\n",
    "    \"\"\"\n",
    "    Initialize the model. Weights are initialized to small random values and\n",
    "    biases are initialized to zero. Weights and biases are stored in the\n",
    "    variable self.params, which is a dictionary with the following keys:\n",
    "\n",
    "    W1: First layer weights; has shape (H, D)\n",
    "    b1: First layer biases; has shape (H,)\n",
    "    W2: Second layer weights; has shape (C, H)\n",
    "    b2: Second layer biases; has shape (C,)\n",
    "\n",
    "    Inputs:\n",
    "    - input_size: The dimension D of the input data.\n",
    "    - hidden_size: The number of neurons H in the hidden layer.\n",
    "    - output_size: The number of classes C.\n",
    "    \"\"\"\n",
    "    self.params = {}\n",
    "    self.params['W1'] = std * np.random.randn(hidden_size, input_size)\n",
    "    self.params['b1'] = np.zeros(hidden_size)\n",
    "    self.params['W2'] = std * np.random.randn(output_size, hidden_size)\n",
    "    self.params['b2'] = np.zeros(output_size)\n",
    "\n",
    "\n",
    "  def loss(self, X, y=None, reg=0.0):\n",
    "    \"\"\"\n",
    "    Compute the loss and gradients for a two layer fully connected neural\n",
    "    network.\n",
    "\n",
    "    Inputs:\n",
    "    - X: Input data of shape (N, D). Each X[i] is a training sample.\n",
    "    - y: Vector of training labels. y[i] is the label for X[i], and each y[i] is\n",
    "      an integer in the range 0 <= y[i] < C. This parameter is optional; if it\n",
    "      is not passed then we only return scores, and if it is passed then we\n",
    "      instead return the loss and gradients.\n",
    "    - reg: Regularization strength.\n",
    "\n",
    "    Returns:\n",
    "    If y is None, return a matrix scores of shape (N, C) where scores[i, c] is\n",
    "    the score for class c on input X[i].\n",
    "\n",
    "    If y is not None, instead return a tuple of:\n",
    "    - loss: Loss (data loss and regularization loss) for this batch of training\n",
    "      samples.\n",
    "    - grads: Dictionary mapping parameter names to gradients of those parameters\n",
    "      with respect to the loss function; has the same keys as self.params.\n",
    "    \"\"\"\n",
    "    # Unpack variables from the params dictionary\n",
    "    W1, b1 = self.params['W1'], self.params['b1']\n",
    "    W2, b2 = self.params['W2'], self.params['b2']\n",
    "    N, D = X.shape\n",
    "\n",
    "    # Compute the forward pass\n",
    "    scores = None\n",
    "\n",
    "    # ================================================================ #\n",
    "    # YOUR CODE HERE:\n",
    "\t#   Calculate the output scores of the neural network.  The result\n",
    "\t#   should be (N, C). As stated in the description for this class,\n",
    "\t#\tthere should not be a ReLU layer after the second FC layer.\n",
    "\t#\tThe output of the second FC layer is the output scores. Do not\n",
    "\t#\tuse a for loop in your implementation.\n",
    "    # ================================================================ #\n",
    "\n",
    "    #our activation function is RELU based on the description\n",
    "    f = lambda x : x * (x > 0) #relu activation function\n",
    "    h = f(np.dot(X, W1.T) + b1)\n",
    "    scores = np.dot(h, W2.T) + b2 #W2.T is basically voodoo programming but whatever\n",
    "    \n",
    "    # ================================================================ #\n",
    "    # END YOUR CODE HERE\n",
    "    # ================================================================ #\n",
    "\n",
    "  \n",
    "    # If the targets are not given then jump out, we're done\n",
    "    if y is None:\n",
    "      return scores\n",
    "\n",
    "    # Compute the loss\n",
    "    loss = None\n",
    "\n",
    "    # ================================================================ #\n",
    "    # YOUR CODE HERE:\n",
    "\t#   Calculate the loss of the neural network.  This includes the \n",
    "\t# \tsoftmax loss and the L2 regularization for W1 and W2. Store the \n",
    "\t#\ttotal loss in the variable loss.  Multiply the regularization\n",
    "\t# \tloss by 0.5 (in addition to the factor reg).\n",
    "\t# ================================================================ #\n",
    "\n",
    "    # scores is num_examples by num_classes\n",
    " \t\n",
    "    softmax_loss_var, dscores = softmax_loss(scores, y) #use scores, not X, since this is NN, not softmax!! \n",
    "    reg_loss = 0.5*reg*np.sum(W1*W1) + 0.5*reg*np.sum(W2*W2)\n",
    "    loss = softmax_loss_var + reg_loss    \n",
    "    \n",
    "    # ================================================================ #\n",
    "    # END YOUR CODE HERE\n",
    "    # ================================================================ #\n",
    "\n",
    "    grads = {}\n",
    "\n",
    "    # ================================================================ #\n",
    "    # YOUR CODE HERE:\n",
    "\t# \tImplement the backward pass.  Compute the derivatives of the \n",
    "\t# \tweights and the biases.  Store the results in the grads\n",
    "\t#\tdictionary.  e.g., grads['W1'] should store the gradient for \n",
    "\t# \tW1, and be of the same size as W1.\n",
    "\t# ================================================================ #\n",
    "    \n",
    "    #using https://cs231n.github.io/neural-networks-case-study/ as a resource\n",
    "    \n",
    "    #first backprop gradient (dscores) into W2 and b2 \n",
    "        \n",
    "    dW2 = np.dot(h.T, dscores)\n",
    "    db2 = np.sum(dscores, axis=0, keepdims=True)\n",
    "    \n",
    "    #then, backprop into hidden layer \n",
    "    dhidden = np.dot(dscores, W2)\n",
    "    \n",
    "    #backprop RELU \n",
    "    dhidden[h <= 0] = 0 \n",
    "    \n",
    "    #backprop into W and b \n",
    "    dW = np.dot(X.T, dhidden) \n",
    "    db = np.sum(dhidden, axis=0, keepdims=True)\n",
    "    \n",
    "\t#add to dictionary and perform regularization\n",
    "    \n",
    "    #voodoo programmed to bring down the error by randomly adding a transpose to W1 and W2 lol \n",
    "    #i guessed that I had to b/c I had to add regularization and the dimensions didn't match unless I transposed\n",
    "    #i had to add regularization otherwise the error was bad rip\n",
    "    \n",
    "    grads['W1'] = dW.T\n",
    "    grads['W2'] = dW2.T\n",
    "    grads['b1'] = db\n",
    "    grads['b2'] = db2\n",
    "    \n",
    "    grads['W1'] += reg * W1 \n",
    "    grads['W2'] += reg * W2 \n",
    "\n",
    "    # ================================================================ #\n",
    "    # END YOUR CODE HERE\n",
    "    # ================================================================ #\n",
    "\n",
    "    return loss, grads\n",
    "\n",
    "  def train(self, X, y, X_val, y_val,\n",
    "            learning_rate=1e-3, learning_rate_decay=0.95,\n",
    "            reg=1e-5, num_iters=100,\n",
    "            batch_size=200, verbose=False):\n",
    "    \"\"\"\n",
    "    Train this neural network using stochastic gradient descent.\n",
    "\n",
    "    Inputs:\n",
    "    - X: A numpy array of shape (N, D) giving training data.\n",
    "    - y: A numpy array f shape (N,) giving training labels; y[i] = c means that\n",
    "      X[i] has label c, where 0 <= c < C.\n",
    "    - X_val: A numpy array of shape (N_val, D) giving validation data.\n",
    "    - y_val: A numpy array of shape (N_val,) giving validation labels.\n",
    "    - learning_rate: Scalar giving learning rate for optimization.\n",
    "    - learning_rate_decay: Scalar giving factor used to decay the learning rate\n",
    "      after each epoch.\n",
    "    - reg: Scalar giving regularization strength.\n",
    "    - num_iters: Number of steps to take when optimizing.\n",
    "    - batch_size: Number of training examples to use per step.\n",
    "    - verbose: boolean; if true print progress during optimization.\n",
    "    \"\"\"\n",
    "    num_train = X.shape[0]\n",
    "    iterations_per_epoch = max(num_train / batch_size, 1)\n",
    "\n",
    "    # Use SGD to optimize the parameters in self.model\n",
    "    loss_history = []\n",
    "    train_acc_history = []\n",
    "    val_acc_history = []\n",
    "\n",
    "    for it in np.arange(num_iters):\n",
    "      X_batch = None\n",
    "      y_batch = None\n",
    "\n",
    "      # ================================================================ #\n",
    "      # YOUR CODE HERE:\n",
    "  \t  # \tCreate a minibatch by sampling batch_size samples randomly.\n",
    "  \t  # ================================================================ #\n",
    "  \t  \n",
    "      #same code as softmax.py train function\n",
    "      indices = np.random.choice(np.arange(num_train), batch_size);\n",
    "      X_batch = X[indices]\n",
    "      y_batch = y[indices] \n",
    "\n",
    "      # ================================================================ #\n",
    "      # END YOUR CODE HERE\n",
    "      # ================================================================ #\n",
    "\n",
    "       # Compute loss and gradients using the current minibatch\n",
    "      loss, grads = self.loss(X_batch, y=y_batch, reg=reg)\n",
    "      loss_history.append(loss)\n",
    "\n",
    "      # ================================================================ #\n",
    "      # YOUR CODE HERE:\n",
    "  \t  # \tPerform a gradient descent step using the minibatch to update\n",
    "\t  # \tall parameters (i.e., W1, W2, b1, and b2).\n",
    "  \t  # ================================================================ #\n",
    "    \n",
    "      #step size is the same as learning rate \n",
    "      self.params['W1'] -= learning_rate * grads['W1']\n",
    "      self.params['W2'] -= learning_rate * grads['W2']\n",
    "        \n",
    "      #can't use += below, see https://stackoverflow.com/questions/47493559/valueerror-non-broadcastable-output-operand-with-shape-3-1-doesnt-match-the/47493938   \n",
    "        \n",
    "      self.params['b1'] = self.params['b1'] - (learning_rate * grads['b1']) \n",
    "      self.params['b2'] = self.params['b2'] - (learning_rate * grads['b2'])\n",
    "\n",
    "      # ================================================================ #\n",
    "      # END YOUR CODE HERE\n",
    "      # ================================================================ #\n",
    "\n",
    "      if verbose and it % 100 == 0:\n",
    "        print('iteration {} / {}: loss {}'.format(it, num_iters, loss))\n",
    "\n",
    "      # Every epoch, check train and val accuracy and decay learning rate.\n",
    "      if it % iterations_per_epoch == 0:\n",
    "        # Check accuracy\n",
    "        train_acc = (self.predict(X_batch) == y_batch).mean()\n",
    "        val_acc = (self.predict(X_val) == y_val).mean()\n",
    "        train_acc_history.append(train_acc)\n",
    "        val_acc_history.append(val_acc)\n",
    "\n",
    "        # Decay learning rate\n",
    "        learning_rate *= learning_rate_decay\n",
    "\n",
    "    return {\n",
    "      'loss_history': loss_history,\n",
    "      'train_acc_history': train_acc_history,\n",
    "      'val_acc_history': val_acc_history,\n",
    "    }\n",
    "\n",
    "  def predict(self, X):\n",
    "    \"\"\"\n",
    "    Use the trained weights of this two-layer network to predict labels for\n",
    "    data points. For each data point we predict scores for each of the C\n",
    "    classes, and assign each data point to the class with the highest score.\n",
    "\n",
    "    Inputs:\n",
    "    - X: A numpy array of shape (N, D) giving N D-dimensional data points to\n",
    "      classify.\n",
    "\n",
    "    Returns:\n",
    "    - y_pred: A numpy array of shape (N,) giving predicted labels for each of\n",
    "      the elements of X. For all i, y_pred[i] = c means that X[i] is predicted\n",
    "      to have class c, where 0 <= c < C.\n",
    "    \"\"\"\n",
    "    y_pred = None\n",
    "\n",
    "    # ================================================================ #\n",
    "    # YOUR CODE HERE:\n",
    "    # \tPredict the class given the input data.\n",
    "    # ================================================================ #\n",
    "    \n",
    "    W1, b1 = self.params['W1'], self.params['b1']\n",
    "    W2, b2 = self.params['W2'], self.params['b2']\n",
    "    \n",
    "    #the same as in loss()\n",
    "    \n",
    "    f = lambda x : x * (x > 0) #relu activation function\n",
    "    h = f(np.dot(X, W1.T) + b1)\n",
    "    scores = np.dot(h, W2.T) + b2\n",
    "    y_pred = np.argmax(scores, axis=1)\n",
    "\n",
    "\n",
    "    # ================================================================ #\n",
    "    # END YOUR CODE HERE\n",
    "    # ================================================================ #\n",
    "\n",
    "    return y_pred\n",
    "\n",
    "\n"
   ]
  }
 ],
 "metadata": {
  "kernelspec": {
   "display_name": "Python 3",
   "language": "python",
   "name": "python3"
  },
  "language_info": {
   "codemirror_mode": {
    "name": "ipython",
    "version": 3
   },
   "file_extension": ".py",
   "mimetype": "text/x-python",
   "name": "python",
   "nbconvert_exporter": "python",
   "pygments_lexer": "ipython3",
   "version": "3.8.5"
  }
 },
 "nbformat": 4,
 "nbformat_minor": 4
}
